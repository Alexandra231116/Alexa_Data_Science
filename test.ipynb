{
 "cells": [
  {
   "cell_type": "code",
   "execution_count": 2,
   "metadata": {},
   "outputs": [
    {
     "name": "stdout",
     "output_type": "stream",
     "text": [
      "lst\n"
     ]
    }
   ],
   "source": [
    "\n",
    "products = {'яблоко': 100, 'мандарин': 150, 'кокос': 200, 'груша': 250}\n",
    "stocks = {'яблоко': 10, 'ручка': 12, 'мандарин': 15, 'тетрадь': 18, 'кокос': 20}\n",
    "\n",
    "def apply_discounts(products, stocks):\n",
    "    lst = []\n",
    "    for x in list(products.keys()):\n",
    "        if x in list((stocks.keys())):\n",
    "            return lst.append(products[x])\n",
    "print('lst')"
   ]
  },
  {
   "cell_type": "code",
   "execution_count": 5,
   "metadata": {},
   "outputs": [
    {
     "name": "stdout",
     "output_type": "stream",
     "text": [
      "{100: 90.0, 150: 135.0, 200: 180.0, 'груша': 'груша'}\n"
     ]
    }
   ],
   "source": [
    "\n",
    "products = {'яблоко': 100, 'мандарин': 150, 'кокос': 200, 'груша': 250}\n",
    "stocks = {'яблоко': 10, 'ручка': 12, 'мандарин': 15, 'тетрадь': 18, 'кокос': 20}\n",
    "\n",
    "def apply_discounts(products, stocks):\n",
    "    products_discount = {}\n",
    "    for discount in stocks.keys():\n",
    "        stocks[discount] = round(stocks[discount]/100, 2)\n",
    "        for product, price in products.items():\n",
    "            if product in stocks:\n",
    "                products_discount[price] = round(price - (price * stocks[discount]),2)\n",
    "        else:\n",
    "            products_discount[product] = product    \n",
    "            return products_discount\n",
    "\n",
    "new_products = apply_discounts(products, stocks)\n",
    "print(new_products)\n"
   ]
  },
  {
   "cell_type": "code",
   "execution_count": 26,
   "metadata": {},
   "outputs": [
    {
     "name": "stdout",
     "output_type": "stream",
     "text": [
      "{'Boiled sausage': '33%', 'Juice J7 (orange)': '12%', 'Trout (Seven Seas)': '18%'}\n"
     ]
    }
   ],
   "source": [
    "stocks = {'Boiled sausage': '33%', 'Juice J7 (orange)': '12%', 'Trout (Seven Seas)': '18%'}\n",
    "def clean_stocks(stocks):\n",
    "    for n, i in enumerate(stocks):\n",
    "        for n2, l in enumerate(i):\n",
    "            if \"%\" in l:\n",
    "                stocks[n][i][n2] = l.replace(\"%\", \"\")\n",
    "        return stocks\n",
    "new_stocks=clean_stocks(stocks)\n",
    "print(new_stocks)            \n",
    "    "
   ]
  },
  {
   "cell_type": "code",
   "execution_count": 42,
   "metadata": {},
   "outputs": [
    {
     "ename": "TypeError",
     "evalue": "can't multiply sequence by non-int of type 'float'",
     "output_type": "error",
     "traceback": [
      "\u001b[1;31m---------------------------------------------------------------------------\u001b[0m",
      "\u001b[1;31mTypeError\u001b[0m                                 Traceback (most recent call last)",
      "Cell \u001b[1;32mIn[42], line 13\u001b[0m\n\u001b[0;32m     11\u001b[0m             products_discount[key] \u001b[39m=\u001b[39m value\n\u001b[0;32m     12\u001b[0m             \u001b[39mreturn\u001b[39;00m products_discount\n\u001b[1;32m---> 13\u001b[0m new_products \u001b[39m=\u001b[39m apply_discounts(products, stocks)\n\u001b[0;32m     14\u001b[0m \u001b[39mprint\u001b[39m(new_products)\n",
      "Cell \u001b[1;32mIn[42], line 9\u001b[0m, in \u001b[0;36mapply_discounts\u001b[1;34m(products, stocks)\u001b[0m\n\u001b[0;32m      7\u001b[0m \u001b[39mfor\u001b[39;00m key, value \u001b[39min\u001b[39;00m products\u001b[39m.\u001b[39mitems():\n\u001b[0;32m      8\u001b[0m     \u001b[39mif\u001b[39;00m key \u001b[39min\u001b[39;00m stocks:\n\u001b[1;32m----> 9\u001b[0m         products_discount[key] \u001b[39m=\u001b[39m \u001b[39mround\u001b[39m(value \u001b[39m-\u001b[39m (value \u001b[39m*\u001b[39;49m stocks[key]), \u001b[39m2\u001b[39m)\n\u001b[0;32m     10\u001b[0m \u001b[39melse\u001b[39;00m:\n\u001b[0;32m     11\u001b[0m     products_discount[key] \u001b[39m=\u001b[39m value\n",
      "\u001b[1;31mTypeError\u001b[0m: can't multiply sequence by non-int of type 'float'"
     ]
    }
   ],
   "source": [
    "\n",
    "products = {'Oranges (packaged)': 114.99, 'Candy (Rotfront)': 280.0, 'Boiled sausage': 199.99, 'Juice J7 (orange)': 119.99, 'Trout (Seven Seas)': 399.99}\n",
    "stocks = {'Boiled sausage': '33%', 'Juice J7 (orange)': '12%', 'Trout (Seven Seas)': '18%'}\n",
    "def apply_discounts(products, stocks):\n",
    "    products_discount = {}\n",
    "    for key in stocks.keys():\n",
    "        stocks[key] = round((float(stocks[key].replace('%', '')))/100, 2)    \n",
    "        for key, value in products.items():\n",
    "            if key in stocks:\n",
    "                products_discount[key] = round(value - (value * stocks[key]), 2)\n",
    "        else:\n",
    "            products_discount[key] = value\n",
    "            return products_discount\n",
    "new_products = apply_discounts(products, stocks)\n",
    "print(new_products)\n"
   ]
  },
  {
   "cell_type": "code",
   "execution_count": 48,
   "metadata": {},
   "outputs": [
    {
     "ename": "AttributeError",
     "evalue": "'int' object has no attribute 'replace'",
     "output_type": "error",
     "traceback": [
      "\u001b[1;31m---------------------------------------------------------------------------\u001b[0m",
      "\u001b[1;31mAttributeError\u001b[0m                            Traceback (most recent call last)",
      "Cell \u001b[1;32mIn[48], line 15\u001b[0m\n\u001b[0;32m     11\u001b[0m products \u001b[39m=\u001b[39m {\u001b[39m'\u001b[39m\u001b[39mяблоко\u001b[39m\u001b[39m'\u001b[39m: \u001b[39m100\u001b[39m, \u001b[39m'\u001b[39m\u001b[39mмандарин\u001b[39m\u001b[39m'\u001b[39m: \u001b[39m150\u001b[39m, \u001b[39m'\u001b[39m\u001b[39mкокос\u001b[39m\u001b[39m'\u001b[39m: \u001b[39m200\u001b[39m, \u001b[39m'\u001b[39m\u001b[39mгруша\u001b[39m\u001b[39m'\u001b[39m: \u001b[39m250\u001b[39m}\n\u001b[0;32m     12\u001b[0m stocks \u001b[39m=\u001b[39m {\u001b[39m'\u001b[39m\u001b[39mяблоко\u001b[39m\u001b[39m'\u001b[39m: \u001b[39m10\u001b[39m, \u001b[39m'\u001b[39m\u001b[39mручка\u001b[39m\u001b[39m'\u001b[39m: \u001b[39m12\u001b[39m, \u001b[39m'\u001b[39m\u001b[39mмандарин\u001b[39m\u001b[39m'\u001b[39m: \u001b[39m15\u001b[39m, \u001b[39m'\u001b[39m\u001b[39mтетрадь\u001b[39m\u001b[39m'\u001b[39m: \u001b[39m18\u001b[39m, \u001b[39m'\u001b[39m\u001b[39mкокос\u001b[39m\u001b[39m'\u001b[39m: \u001b[39m20\u001b[39m}\n\u001b[1;32m---> 15\u001b[0m new_products \u001b[39m=\u001b[39m apply_discounts(products, stocks)\n\u001b[0;32m     16\u001b[0m \u001b[39mprint\u001b[39m(new_products)\n",
      "Cell \u001b[1;32mIn[48], line 4\u001b[0m, in \u001b[0;36mapply_discounts\u001b[1;34m(products, stocks)\u001b[0m\n\u001b[0;32m      2\u001b[0m products_discount \u001b[39m=\u001b[39m {}\n\u001b[0;32m      3\u001b[0m \u001b[39mfor\u001b[39;00m k \u001b[39min\u001b[39;00m stocks\u001b[39m.\u001b[39mkeys():\n\u001b[1;32m----> 4\u001b[0m     stocks[k] \u001b[39m=\u001b[39m \u001b[39mround\u001b[39m(\u001b[39mfloat\u001b[39m(stocks[k]\u001b[39m.\u001b[39;49mreplace(\u001b[39m'\u001b[39m\u001b[39m%\u001b[39m\u001b[39m'\u001b[39m,\u001b[39m'\u001b[39m\u001b[39m'\u001b[39m))\u001b[39m/\u001b[39m\u001b[39m100\u001b[39m,\u001b[39m2\u001b[39m)\n\u001b[0;32m      5\u001b[0m     \u001b[39mfor\u001b[39;00m k, v \u001b[39min\u001b[39;00m products\u001b[39m.\u001b[39mitems():\n\u001b[0;32m      6\u001b[0m         \u001b[39mif\u001b[39;00m k \u001b[39min\u001b[39;00m stocks:\n",
      "\u001b[1;31mAttributeError\u001b[0m: 'int' object has no attribute 'replace'"
     ]
    }
   ],
   "source": [
    "def apply_discounts(products, stocks):\n",
    "    products_discount = {}\n",
    "    for k in stocks.keys():\n",
    "        stocks[k] = round(float(stocks[k].replace('%',''))/100,2)\n",
    "        for k, v in products.items():\n",
    "            if k in stocks:\n",
    "             products_discount[k] = round(v - (v * stocks[k]),2)\n",
    "        else:\n",
    "            products_discount[k] = v\n",
    "            return products_discount\n",
    "products = {'яблоко': 100, 'мандарин': 150, 'кокос': 200, 'груша': 250}\n",
    "stocks = {'яблоко': 10, 'ручка': 12, 'мандарин': 15, 'тетрадь': 18, 'кокос': 20}\n",
    "        \n",
    "\n",
    "new_products = apply_discounts(products, stocks)\n",
    "print(new_products)\n"
   ]
  },
  {
   "cell_type": "code",
   "execution_count": null,
   "metadata": {},
   "outputs": [],
   "source": [
    "products={\n",
    "        \"Oranges (packaged)\": 114.99,\n",
    "        \"Candy (Rotfront)\": 280.00,\n",
    "        \"Boiled sausage\": 199.99,\n",
    "        \"Juice J7 (orange)\": 119.99,\n",
    "        \"Trout (Seven Seas)\": 399.99\n",
    "        }\n",
    "stocks = {\n",
    "        \"Boiled sausage\": \"33%\",\n",
    "        \"Juice J7 (orange)\": \"12%\",\n",
    "        \"Trout (Seven Seas)\": \"18%\"\n",
    "    }"
   ]
  },
  {
   "cell_type": "code",
   "execution_count": 17,
   "metadata": {},
   "outputs": [
    {
     "name": "stdout",
     "output_type": "stream",
     "text": [
      "None\n"
     ]
    }
   ],
   "source": [
    "\n",
    "products = {'яблоко': 100, 'мандарин': 150, 'кокос': 200, 'груша': 250}\n",
    "stocks = {'яблоко': 10, 'ручка': 12, 'мандарин': 15, 'тетрадь': 18, 'кокос': 20}\n",
    "def apply_discounts(products, stocks):\n",
    "    for key_p, values_p in products.items():\n",
    "        for key_s, values_s in stocks.items():\n",
    "            if key_p == key_s:\n",
    "                values_p = round(values_p - values_p * values_s, 2)\n",
    "            else:\n",
    "                return None\n",
    "    return products\n",
    "new_products = apply_discounts(products, stocks)\n",
    "print(new_products)            "
   ]
  }
 ],
 "metadata": {
  "kernelspec": {
   "display_name": "Python 3",
   "language": "python",
   "name": "python3"
  },
  "language_info": {
   "codemirror_mode": {
    "name": "ipython",
    "version": 3
   },
   "file_extension": ".py",
   "mimetype": "text/x-python",
   "name": "python",
   "nbconvert_exporter": "python",
   "pygments_lexer": "ipython3",
   "version": "3.9.10"
  },
  "orig_nbformat": 4,
  "vscode": {
   "interpreter": {
    "hash": "49ebaf188096739e0098d74a53d301422af9d5302cf6f0253d6d6abd2c084969"
   }
  }
 },
 "nbformat": 4,
 "nbformat_minor": 2
}
