{
 "cells": [
  {
   "cell_type": "code",
   "execution_count": 39,
   "metadata": {},
   "outputs": [
    {
     "name": "stderr",
     "output_type": "stream",
     "text": [
      "C:\\Users\\админ\\AppData\\Local\\Temp\\ipykernel_3648\\50416531.py:20: MatplotlibDeprecationWarning: The seaborn styles shipped by Matplotlib are deprecated since 3.6, as they no longer correspond to the styles shipped by seaborn. However, they will remain available as 'seaborn-v0_8-<style>'. Alternatively, directly use the seaborn API instead.\n",
      "  plt.style.use('seaborn')\n"
     ]
    }
   ],
   "source": [
    "#импорт библиотек\n",
    "import numpy as np #для матричных вычислений\n",
    "import pandas as pd #для анализа и предобработки данных\n",
    "import matplotlib.pyplot as plt #для визуализации\n",
    "import seaborn as sns #для визуализации\n",
    "\n",
    "from sklearn import linear_model #линейные моделиё\n",
    "from sklearn import tree #деревья решений\n",
    "from sklearn import ensemble #ансамбли\n",
    "from sklearn import metrics #метрики\n",
    "from sklearn import preprocessing #предобработка\n",
    "from sklearn.model_selection import train_test_split #сплитование выборки\n",
    "from sklearn.model_selection import cross_val_score\n",
    "import hyperopt\n",
    "from hyperopt import hp, fmin, tpe, Trials, space_eval\n",
    "import optuna\n",
    "\n",
    "\n",
    "%matplotlib inline\n",
    "plt.style.use('seaborn')"
   ]
  },
  {
   "attachments": {},
   "cell_type": "markdown",
   "metadata": {},
   "source": [
    "### Задача: Необходимо предсказать биологический ответ молекул (столбец 'Activity') по их химическому составу (столбцы D1-D1776).\n",
    "- Данные представлены в формате CSV.  Каждая строка представляет молекулу. \n",
    "- Первый столбец Activity содержит экспериментальные данные, описывающие фактический биологический ответ [0, 1]; \n",
    "- Остальные столбцы D1-D1776 представляют собой молекулярные дескрипторы — это вычисляемые свойства, которые могут фиксировать некоторые характеристики молекулы, например размер, форму или состав элементов.\n",
    "- Предварительная обработка не требуется, данные уже закодированы и нормализованы.\n",
    "- В качестве метрики будем использовать F1-score.\n",
    "- Необходимо обучить две модели: логистическую регрессию и случайный лес. \n",
    "- Далее нужно сделать подбор гиперпараметров с помощью базовых и продвинутых методов оптимизации. \n",
    "- Важно использовать все четыре метода (GridSeachCV, RandomizedSearchCV, Hyperopt, Optuna) хотя бы по разу, максимальное количество итераций не должно превышать 50."
   ]
  },
  {
   "cell_type": "code",
   "execution_count": 50,
   "metadata": {},
   "outputs": [
    {
     "data": {
      "text/html": [
       "<div>\n",
       "<style scoped>\n",
       "    .dataframe tbody tr th:only-of-type {\n",
       "        vertical-align: middle;\n",
       "    }\n",
       "\n",
       "    .dataframe tbody tr th {\n",
       "        vertical-align: top;\n",
       "    }\n",
       "\n",
       "    .dataframe thead th {\n",
       "        text-align: right;\n",
       "    }\n",
       "</style>\n",
       "<table border=\"1\" class=\"dataframe\">\n",
       "  <thead>\n",
       "    <tr style=\"text-align: right;\">\n",
       "      <th></th>\n",
       "      <th>Activity</th>\n",
       "      <th>D1</th>\n",
       "      <th>D2</th>\n",
       "      <th>D3</th>\n",
       "      <th>D4</th>\n",
       "      <th>D5</th>\n",
       "      <th>D6</th>\n",
       "      <th>D7</th>\n",
       "      <th>D8</th>\n",
       "      <th>D9</th>\n",
       "      <th>...</th>\n",
       "      <th>D1767</th>\n",
       "      <th>D1768</th>\n",
       "      <th>D1769</th>\n",
       "      <th>D1770</th>\n",
       "      <th>D1771</th>\n",
       "      <th>D1772</th>\n",
       "      <th>D1773</th>\n",
       "      <th>D1774</th>\n",
       "      <th>D1775</th>\n",
       "      <th>D1776</th>\n",
       "    </tr>\n",
       "  </thead>\n",
       "  <tbody>\n",
       "    <tr>\n",
       "      <th>0</th>\n",
       "      <td>1</td>\n",
       "      <td>0.000000</td>\n",
       "      <td>0.497009</td>\n",
       "      <td>0.10</td>\n",
       "      <td>0.0</td>\n",
       "      <td>0.132956</td>\n",
       "      <td>0.678031</td>\n",
       "      <td>0.273166</td>\n",
       "      <td>0.585445</td>\n",
       "      <td>0.743663</td>\n",
       "      <td>...</td>\n",
       "      <td>0</td>\n",
       "      <td>0</td>\n",
       "      <td>0</td>\n",
       "      <td>0</td>\n",
       "      <td>0</td>\n",
       "      <td>0</td>\n",
       "      <td>0</td>\n",
       "      <td>0</td>\n",
       "      <td>0</td>\n",
       "      <td>0</td>\n",
       "    </tr>\n",
       "    <tr>\n",
       "      <th>1</th>\n",
       "      <td>1</td>\n",
       "      <td>0.366667</td>\n",
       "      <td>0.606291</td>\n",
       "      <td>0.05</td>\n",
       "      <td>0.0</td>\n",
       "      <td>0.111209</td>\n",
       "      <td>0.803455</td>\n",
       "      <td>0.106105</td>\n",
       "      <td>0.411754</td>\n",
       "      <td>0.836582</td>\n",
       "      <td>...</td>\n",
       "      <td>1</td>\n",
       "      <td>1</td>\n",
       "      <td>1</td>\n",
       "      <td>1</td>\n",
       "      <td>0</td>\n",
       "      <td>1</td>\n",
       "      <td>0</td>\n",
       "      <td>0</td>\n",
       "      <td>1</td>\n",
       "      <td>0</td>\n",
       "    </tr>\n",
       "    <tr>\n",
       "      <th>2</th>\n",
       "      <td>1</td>\n",
       "      <td>0.033300</td>\n",
       "      <td>0.480124</td>\n",
       "      <td>0.00</td>\n",
       "      <td>0.0</td>\n",
       "      <td>0.209791</td>\n",
       "      <td>0.610350</td>\n",
       "      <td>0.356453</td>\n",
       "      <td>0.517720</td>\n",
       "      <td>0.679051</td>\n",
       "      <td>...</td>\n",
       "      <td>0</td>\n",
       "      <td>0</td>\n",
       "      <td>0</td>\n",
       "      <td>0</td>\n",
       "      <td>0</td>\n",
       "      <td>0</td>\n",
       "      <td>0</td>\n",
       "      <td>0</td>\n",
       "      <td>0</td>\n",
       "      <td>0</td>\n",
       "    </tr>\n",
       "    <tr>\n",
       "      <th>3</th>\n",
       "      <td>1</td>\n",
       "      <td>0.000000</td>\n",
       "      <td>0.538825</td>\n",
       "      <td>0.00</td>\n",
       "      <td>0.5</td>\n",
       "      <td>0.196344</td>\n",
       "      <td>0.724230</td>\n",
       "      <td>0.235606</td>\n",
       "      <td>0.288764</td>\n",
       "      <td>0.805110</td>\n",
       "      <td>...</td>\n",
       "      <td>0</td>\n",
       "      <td>0</td>\n",
       "      <td>0</td>\n",
       "      <td>0</td>\n",
       "      <td>0</td>\n",
       "      <td>0</td>\n",
       "      <td>0</td>\n",
       "      <td>0</td>\n",
       "      <td>0</td>\n",
       "      <td>0</td>\n",
       "    </tr>\n",
       "    <tr>\n",
       "      <th>4</th>\n",
       "      <td>0</td>\n",
       "      <td>0.100000</td>\n",
       "      <td>0.517794</td>\n",
       "      <td>0.00</td>\n",
       "      <td>0.0</td>\n",
       "      <td>0.494734</td>\n",
       "      <td>0.781422</td>\n",
       "      <td>0.154361</td>\n",
       "      <td>0.303809</td>\n",
       "      <td>0.812646</td>\n",
       "      <td>...</td>\n",
       "      <td>0</td>\n",
       "      <td>0</td>\n",
       "      <td>0</td>\n",
       "      <td>0</td>\n",
       "      <td>0</td>\n",
       "      <td>0</td>\n",
       "      <td>0</td>\n",
       "      <td>0</td>\n",
       "      <td>0</td>\n",
       "      <td>0</td>\n",
       "    </tr>\n",
       "  </tbody>\n",
       "</table>\n",
       "<p>5 rows × 1777 columns</p>\n",
       "</div>"
      ],
      "text/plain": [
       "   Activity        D1        D2    D3   D4        D5        D6        D7  \\\n",
       "0         1  0.000000  0.497009  0.10  0.0  0.132956  0.678031  0.273166   \n",
       "1         1  0.366667  0.606291  0.05  0.0  0.111209  0.803455  0.106105   \n",
       "2         1  0.033300  0.480124  0.00  0.0  0.209791  0.610350  0.356453   \n",
       "3         1  0.000000  0.538825  0.00  0.5  0.196344  0.724230  0.235606   \n",
       "4         0  0.100000  0.517794  0.00  0.0  0.494734  0.781422  0.154361   \n",
       "\n",
       "         D8        D9  ...  D1767  D1768  D1769  D1770  D1771  D1772  D1773  \\\n",
       "0  0.585445  0.743663  ...      0      0      0      0      0      0      0   \n",
       "1  0.411754  0.836582  ...      1      1      1      1      0      1      0   \n",
       "2  0.517720  0.679051  ...      0      0      0      0      0      0      0   \n",
       "3  0.288764  0.805110  ...      0      0      0      0      0      0      0   \n",
       "4  0.303809  0.812646  ...      0      0      0      0      0      0      0   \n",
       "\n",
       "   D1774  D1775  D1776  \n",
       "0      0      0      0  \n",
       "1      0      1      0  \n",
       "2      0      0      0  \n",
       "3      0      0      0  \n",
       "4      0      0      0  \n",
       "\n",
       "[5 rows x 1777 columns]"
      ]
     },
     "execution_count": 50,
     "metadata": {},
     "output_type": "execute_result"
    }
   ],
   "source": [
    "df=pd.read_csv('data.csv')\n",
    "df.head()"
   ]
  },
  {
   "attachments": {},
   "cell_type": "markdown",
   "metadata": {},
   "source": [
    "Создаем матрицу наблюдений $X$ и вектор ответов $y$"
   ]
  },
  {
   "cell_type": "code",
   "execution_count": 51,
   "metadata": {},
   "outputs": [],
   "source": [
    "X = df.drop(['Activity'], axis=1)\n",
    "y = df['Activity']"
   ]
  },
  {
   "attachments": {},
   "cell_type": "markdown",
   "metadata": {},
   "source": [
    "Разделяем выборку на тренировочную и тестовую в соотношении 80/20. Для сохранения соотношений целевого признака используем параметр stratify (стратифицированное разбиение). "
   ]
  },
  {
   "cell_type": "code",
   "execution_count": 52,
   "metadata": {},
   "outputs": [],
   "source": [
    "X_train, X_test, y_train, y_test = train_test_split(X, y, stratify=y, random_state = 1, test_size = 0.2)"
   ]
  },
  {
   "attachments": {},
   "cell_type": "markdown",
   "metadata": {},
   "source": [
    "### Оптимизация гиперпараметров модели"
   ]
  },
  {
   "attachments": {},
   "cell_type": "markdown",
   "metadata": {},
   "source": [
    "## **Логистическая регрессия**"
   ]
  },
  {
   "attachments": {},
   "cell_type": "markdown",
   "metadata": {},
   "source": [
    "Зафиксируем только метрики, которые были получены без дополнительной настройки, т.е со значениями гиперпараметров, установленных по умолчанию:"
   ]
  },
  {
   "cell_type": "code",
   "execution_count": 53,
   "metadata": {},
   "outputs": [
    {
     "name": "stdout",
     "output_type": "stream",
     "text": [
      "Accuracy на тестовом наборе: 0.76\n",
      "f1_score на тестовом наборе: 0.79\n"
     ]
    },
    {
     "name": "stderr",
     "output_type": "stream",
     "text": [
      "c:\\Users\\админ\\AppData\\Local\\Programs\\Python\\Python39\\lib\\site-packages\\sklearn\\linear_model\\_logistic.py:458: ConvergenceWarning: lbfgs failed to converge (status=1):\n",
      "STOP: TOTAL NO. of ITERATIONS REACHED LIMIT.\n",
      "\n",
      "Increase the number of iterations (max_iter) or scale the data as shown in:\n",
      "    https://scikit-learn.org/stable/modules/preprocessing.html\n",
      "Please also refer to the documentation for alternative solver options:\n",
      "    https://scikit-learn.org/stable/modules/linear_model.html#logistic-regression\n",
      "  n_iter_i = _check_optimize_result(\n"
     ]
    }
   ],
   "source": [
    "#Создаем объект класса логистическая регрессия\n",
    "log_reg = linear_model.LogisticRegression(max_iter = 50)\n",
    "#Обучаем модель, минимизируя logloss\n",
    "log_reg.fit(X_train, y_train)\n",
    "print(\"Accuracy на тестовом наборе: {:.2f}\".format(log_reg.score(X_test, y_test)))\n",
    "y_test_pred = log_reg.predict(X_test)\n",
    "print('f1_score на тестовом наборе: {:.2f}'.format(metrics.f1_score(y_test, y_test_pred)))"
   ]
  },
  {
   "attachments": {},
   "cell_type": "markdown",
   "metadata": {},
   "source": [
    "### GridSearchCV"
   ]
  },
  {
   "cell_type": "code",
   "execution_count": 54,
   "metadata": {},
   "outputs": [
    {
     "name": "stdout",
     "output_type": "stream",
     "text": [
      "CPU times: total: 3.02 s\n",
      "Wall time: 15.2 s\n",
      "accuracy на тестовом наборе: 0.76\n",
      "f1_score на тестовом наборе: 0.78\n",
      "Наилучшие значения гиперпараметров: {'penalty': 'l2', 'solver': 'saga'}\n"
     ]
    },
    {
     "name": "stderr",
     "output_type": "stream",
     "text": [
      "c:\\Users\\админ\\AppData\\Local\\Programs\\Python\\Python39\\lib\\site-packages\\sklearn\\linear_model\\_sag.py:350: ConvergenceWarning: The max_iter was reached which means the coef_ did not converge\n",
      "  warnings.warn(\n"
     ]
    }
   ],
   "source": [
    "from sklearn.model_selection import GridSearchCV\n",
    "\n",
    "param_grid = {'penalty': ['l2', 'none'] ,#тип регурялизации\n",
    "              'solver': ['lbfgs', 'saga'], #алгоритм оптимизации\n",
    "              }\n",
    "grid_search = GridSearchCV(\n",
    "    estimator=linear_model.LogisticRegression(\n",
    "        random_state=42, #генератор случайных чисел\n",
    "        max_iter=50 #количество итераций на сходимость\n",
    "    ), \n",
    "    param_grid=param_grid, \n",
    "    cv=5, \n",
    "    n_jobs = -1\n",
    ")  \n",
    "%time grid_search.fit(X_train, y_train) \n",
    "print(\"accuracy на тестовом наборе: {:.2f}\".format(grid_search.score(X_test, y_test)))\n",
    "y_test_pred = grid_search.predict(X_test)\n",
    "print('f1_score на тестовом наборе: {:.2f}'.format(metrics.f1_score(y_test, y_test_pred)))\n",
    "print(\"Наилучшие значения гиперпараметров: {}\".format(grid_search.best_params_))"
   ]
  },
  {
   "attachments": {},
   "cell_type": "markdown",
   "metadata": {},
   "source": [
    "Попробуем расширить сетку гиперпараметров"
   ]
  },
  {
   "cell_type": "code",
   "execution_count": 55,
   "metadata": {},
   "outputs": [
    {
     "name": "stdout",
     "output_type": "stream",
     "text": [
      "CPU times: total: 2.84 s\n",
      "Wall time: 1min 46s\n",
      "accuracy на тестовом наборе: 0.77\n",
      "f1_score на тестовом наборе: 0.79\n",
      "Наилучшие значения гиперпараметров: {'C': 0.1, 'penalty': 'l2', 'solver': 'lbfgs'}\n"
     ]
    },
    {
     "name": "stderr",
     "output_type": "stream",
     "text": [
      "c:\\Users\\админ\\AppData\\Local\\Programs\\Python\\Python39\\lib\\site-packages\\sklearn\\linear_model\\_logistic.py:458: ConvergenceWarning: lbfgs failed to converge (status=1):\n",
      "STOP: TOTAL NO. of ITERATIONS REACHED LIMIT.\n",
      "\n",
      "Increase the number of iterations (max_iter) or scale the data as shown in:\n",
      "    https://scikit-learn.org/stable/modules/preprocessing.html\n",
      "Please also refer to the documentation for alternative solver options:\n",
      "    https://scikit-learn.org/stable/modules/linear_model.html#logistic-regression\n",
      "  n_iter_i = _check_optimize_result(\n"
     ]
    }
   ],
   "source": [
    "param_grid = [\n",
    "              {'penalty': ['l2', 'none'] , # тип регуляризации\n",
    "              'solver': ['lbfgs', 'sag'], # алгоритм оптимизации\n",
    "               'C': [0.01, 0.1, 0.3, 0.5, 0.7, 0.9, 1]}, # уровень силы регурялизации\n",
    "              \n",
    "              {'penalty': ['l1', 'l2'] ,\n",
    "              'solver': ['liblinear', 'saga'],\n",
    "               'C': [0.01, 0.1, 0.3, 0.5, 0.7, 0.9, 1]}\n",
    "]\n",
    "grid_search_1 = GridSearchCV(\n",
    "    estimator=linear_model.LogisticRegression(random_state=1, max_iter=50), \n",
    "    param_grid=param_grid, \n",
    "    cv=5, \n",
    "    n_jobs = -1\n",
    ")  \n",
    "%time grid_search_1.fit(X_train, y_train) \n",
    "print(\"accuracy на тестовом наборе: {:.2f}\".format(grid_search_1.score(X_test, y_test)))\n",
    "y_test_pred = grid_search_1.predict(X_test)\n",
    "print('f1_score на тестовом наборе: {:.2f}'.format(metrics.f1_score(y_test, y_test_pred)))\n",
    "print(\"Наилучшие значения гиперпараметров: {}\".format(grid_search_1.best_params_))"
   ]
  },
  {
   "attachments": {},
   "cell_type": "markdown",
   "metadata": {},
   "source": [
    "### RandomizedSearchCV"
   ]
  },
  {
   "cell_type": "code",
   "execution_count": 9,
   "metadata": {},
   "outputs": [
    {
     "name": "stdout",
     "output_type": "stream",
     "text": [
      "CPU times: total: 3.16 s\n",
      "Wall time: 19.8 s\n",
      "accuracy на тестовом наборе: 0.76\n",
      "f1_score на тестовом наборе: 0.79\n",
      "Наилучшие значения гиперпараметров: {'solver': 'lbfgs', 'penalty': 'l2', 'C': 0.12}\n"
     ]
    },
    {
     "name": "stderr",
     "output_type": "stream",
     "text": [
      "c:\\Users\\админ\\AppData\\Local\\Programs\\Python\\Python39\\lib\\site-packages\\sklearn\\linear_model\\_logistic.py:458: ConvergenceWarning: lbfgs failed to converge (status=1):\n",
      "STOP: TOTAL NO. of ITERATIONS REACHED LIMIT.\n",
      "\n",
      "Increase the number of iterations (max_iter) or scale the data as shown in:\n",
      "    https://scikit-learn.org/stable/modules/preprocessing.html\n",
      "Please also refer to the documentation for alternative solver options:\n",
      "    https://scikit-learn.org/stable/modules/linear_model.html#logistic-regression\n",
      "  n_iter_i = _check_optimize_result(\n"
     ]
    }
   ],
   "source": [
    "from sklearn.model_selection import RandomizedSearchCV\n",
    "\n",
    "#np.linspace(start(от), stop(до), num=50(количество),dtype- тип данных)\n",
    "param_distributions = {'penalty': ['l2', 'none'] ,\n",
    "              'solver': ['lbfgs', 'sag'],\n",
    "               'C': list(np.linspace(0.01, 1, 10, dtype=float))},\n",
    "            \n",
    "random_search = RandomizedSearchCV(\n",
    "    estimator=linear_model.LogisticRegression(random_state=42, max_iter=50), \n",
    "    param_distributions=param_distributions, \n",
    "    cv=5, \n",
    "    n_iter = 10, \n",
    "    n_jobs = -1\n",
    ") \n",
    "%time random_search.fit(X_train, y_train) \n",
    "print(\"accuracy на тестовом наборе: {:.2f}\".format(random_search.score(X_test, y_test)))\n",
    "y_test_pred = random_search.predict(X_test)\n",
    "print('f1_score на тестовом наборе: {:.2f}'.format(metrics.f1_score(y_test, y_test_pred)))\n",
    "print(\"Наилучшие значения гиперпараметров: {}\".format(random_search.best_params_))"
   ]
  },
  {
   "attachments": {},
   "cell_type": "markdown",
   "metadata": {},
   "source": [
    "Давайте зададим аналогичную сетку и проделаем тоже с помощью GridSearchCV и сравним:"
   ]
  },
  {
   "cell_type": "code",
   "execution_count": 10,
   "metadata": {},
   "outputs": [
    {
     "name": "stdout",
     "output_type": "stream",
     "text": [
      "CPU times: total: 4.23 s\n",
      "Wall time: 1min 20s\n",
      "accuracy на тестовом наборе: 0.77\n",
      "f1_score на тестовом наборе: 0.80\n",
      "Наилучшие значения гиперпараметров: {'C': 0.01, 'penalty': 'l2', 'solver': 'lbfgs'}\n"
     ]
    },
    {
     "name": "stderr",
     "output_type": "stream",
     "text": [
      "c:\\Users\\админ\\AppData\\Local\\Programs\\Python\\Python39\\lib\\site-packages\\sklearn\\linear_model\\_logistic.py:458: ConvergenceWarning: lbfgs failed to converge (status=1):\n",
      "STOP: TOTAL NO. of ITERATIONS REACHED LIMIT.\n",
      "\n",
      "Increase the number of iterations (max_iter) or scale the data as shown in:\n",
      "    https://scikit-learn.org/stable/modules/preprocessing.html\n",
      "Please also refer to the documentation for alternative solver options:\n",
      "    https://scikit-learn.org/stable/modules/linear_model.html#logistic-regression\n",
      "  n_iter_i = _check_optimize_result(\n"
     ]
    }
   ],
   "source": [
    "param_grid = {'penalty': ['l2', 'none'] ,\n",
    "              'solver': ['lbfgs', 'sag'],\n",
    "               'C': list(np.linspace(0.01, 10, 10, dtype=float))},\n",
    "            \n",
    "grid_search_2 = GridSearchCV(\n",
    "    estimator=linear_model.LogisticRegression(random_state=42, max_iter=50), \n",
    "    param_grid=param_grid, \n",
    "    cv=5, \n",
    "    n_jobs = -1\n",
    ")  \n",
    "%time grid_search_2.fit(X_train, y_train) \n",
    "print(\"accuracy на тестовом наборе: {:.2f}\".format(grid_search_2.score(X_test, y_test)))\n",
    "y_test_pred = grid_search_2.predict(X_test)\n",
    "print('f1_score на тестовом наборе: {:.2f}'.format(metrics.f1_score(y_test, y_test_pred)))\n",
    "print(\"Наилучшие значения гиперпараметров: {}\".format(grid_search_2.best_params_))"
   ]
  },
  {
   "attachments": {},
   "cell_type": "markdown",
   "metadata": {},
   "source": [
    "### Hyperopt"
   ]
  },
  {
   "cell_type": "code",
   "execution_count": 42,
   "metadata": {},
   "outputs": [],
   "source": [
    "# зададим пространство поиска гиперпараметров - получится 3 набора, так как для каждого типа регуляции подходят только определённые алгоритмы оптимизации\n",
    "space_1 = {'penalty': hp.choice(label='penalty', options=['l2', 'none']) , # тип регуляризации\n",
    "              'solver': hp.choice(label='solver', options=['lbfgs', 'sag', 'newton-cg']), # алгоритм оптимизации\n",
    "              'C': hp.uniform('C', 0.01, 1)\n",
    "              } # алгоритм оптимизации\n",
    " \n",
    "\n",
    "# зафиксируем random_state\n",
    "random_state = 42\n",
    "\n",
    "def hyperopt(space, cv=5, X=X, y=y, random_state=random_state):\n",
    "    try:\n",
    "        model=linear_model.LogisticRegression(\n",
    "        penalty = space['penalty'],\n",
    "        solver = space['solver'],\n",
    "        C=np.abs(float(space['C'])),\n",
    "        l1_ratio=float(space['l1_ratio']),\n",
    "        random_state=random_state,\n",
    "        max_iter=50        \n",
    "    )        \n",
    "    except KeyError:\n",
    "          \n",
    "        model=linear_model.LogisticRegression(\n",
    "        penalty = space['penalty'],\n",
    "        solver = space['solver'],\n",
    "        C=np.abs(float(space['C'])),\n",
    "        random_state=random_state,\n",
    "        max_iter=50\n",
    "           )\n",
    "        \n",
    "     \n",
    "    # применим  cross validation \n",
    "    score = cross_val_score(model, X, y, cv=cv, scoring=\"f1\", n_jobs=-1).mean()\n",
    "    # метрику необходимо минимизировать, поэтому ставим знак минус\n",
    "    return -score"
   ]
  },
  {
   "cell_type": "code",
   "execution_count": 43,
   "metadata": {},
   "outputs": [
    {
     "name": "stdout",
     "output_type": "stream",
     "text": [
      "100%|██████████| 50/50 [08:08<00:00,  9.76s/trial, best loss: -0.7916411179230474]\n",
      "Наилучшие значения гиперпараметров {'C': 0.028670415126948956, 'penalty': 0, 'solver': 0}\n",
      "Наилучшие значения гиперпараметров {'C': 0.028670415126948956, 'penalty': 'l2', 'solver': 'lbfgs'}\n",
      "CPU times: total: 3.67 s\n",
      "Wall time: 8min 8s\n"
     ]
    }
   ],
   "source": [
    "%%time\n",
    "              \n",
    "trials = Trials() # используется для логирования результатов  \n",
    "\n",
    "best_1=fmin(hyperopt, # наша функция \n",
    "          space=space_1, # пространство гиперпараметров\n",
    "          algo=tpe.suggest, # алгоритм оптимизации, установлен по умолчанию, задавать необязательно\n",
    "          max_evals=50, # максимальное количество итераций\n",
    "          trials=trials, # логирование результатов\n",
    "          rstate=np.random.default_rng(random_state)# фиксируем для повторяемости результата\n",
    "         )\n",
    "print(f'Наилучшие значения гиперпараметров {best_1}')\n",
    "print(f'Наилучшие значения гиперпараметров {space_eval(space_1, best_1)}')"
   ]
  },
  {
   "cell_type": "code",
   "execution_count": 44,
   "metadata": {},
   "outputs": [
    {
     "name": "stdout",
     "output_type": "stream",
     "text": [
      "F1 for test cross validation=0.792\n",
      "Best Hyperparameter Values: {'C': 0.028670415126948956, 'penalty': 'l2', 'solver': 'lbfgs'}\n"
     ]
    }
   ],
   "source": [
    "model = linear_model.LogisticRegression(\n",
    "        penalty=space_eval(space_1, best_1)['penalty'],\n",
    "        solver=space_eval(space_1, best_1)['solver'],\n",
    "        C=float(best_1['C']),\n",
    "        random_state=random_state,\n",
    "        max_iter=50)\n",
    "        \n",
    "# применим  cross validation \n",
    "score_1 = cross_val_score(model, X, y, cv=5, scoring=\"f1\", n_jobs=-1).mean()\n",
    "\n",
    "print(f'F1 for test cross validation={score_1:.3f}')\n",
    "print(f'Best Hyperparameter Values: {space_eval(space_1, best_1)}')"
   ]
  },
  {
   "attachments": {},
   "cell_type": "markdown",
   "metadata": {},
   "source": [
    "### Optuna"
   ]
  },
  {
   "cell_type": "code",
   "execution_count": 45,
   "metadata": {},
   "outputs": [],
   "source": [
    "space_1 = {'penalty': hp.choice(label='penalty', options=['l2', 'none']) , # тип регуляризации\n",
    "              'solver': hp.choice(label='solver', options=['lbfgs', 'sag']), # алгоритм оптимизации\n",
    "              'C': hp.uniform('C', 0.01, 1)\n",
    "              }"
   ]
  },
  {
   "cell_type": "code",
   "execution_count": 46,
   "metadata": {},
   "outputs": [],
   "source": [
    "def optuna_rf(trial):\n",
    "  # задаем пространства поиска гиперпараметров\n",
    "  n_estimators = trial.suggest_int('n_estimators', 100, 200, 1)\n",
    "  max_depth = trial.suggest_int('max_depth', 10, 30, 1)\n",
    "  min_samples_leaf = trial.suggest_int('min_samples_leaf', 2, 10, 1)\n",
    "\n",
    "  # создаем модель\n",
    "  model = ensemble.RandomForestClassifier(n_estimators=n_estimators,\n",
    "                                          max_depth=max_depth,\n",
    "                                          min_samples_leaf=min_samples_leaf,\n",
    "                                          random_state=random_state)\n",
    "  # обучаем модель\n",
    "  model.fit(X_train, y_train)\n",
    "  score = metrics.f1_score(y_train, model.predict(X_train))\n",
    "\n",
    "  return score"
   ]
  },
  {
   "cell_type": "code",
   "execution_count": 47,
   "metadata": {},
   "outputs": [
    {
     "name": "stderr",
     "output_type": "stream",
     "text": [
      "[I 2023-07-06 21:13:37,181] A new study created in memory with name: RandomForestClassifier\n",
      "[I 2023-07-06 21:13:39,931] Trial 0 finished with value: 0.9005203550658095 and parameters: {'n_estimators': 157, 'max_depth': 26, 'min_samples_leaf': 10}. Best is trial 0 with value: 0.9005203550658095.\n",
      "[I 2023-07-06 21:13:42,533] Trial 1 finished with value: 0.9602932193036041 and parameters: {'n_estimators': 120, 'max_depth': 23, 'min_samples_leaf': 4}. Best is trial 1 with value: 0.9602932193036041.\n",
      "[I 2023-07-06 21:13:44,446] Trial 2 finished with value: 0.9141984732824427 and parameters: {'n_estimators': 107, 'max_depth': 18, 'min_samples_leaf': 8}. Best is trial 1 with value: 0.9602932193036041.\n",
      "[I 2023-07-06 21:13:46,925] Trial 3 finished with value: 0.9770290964777948 and parameters: {'n_estimators': 108, 'max_depth': 24, 'min_samples_leaf': 3}. Best is trial 3 with value: 0.9770290964777948.\n",
      "[I 2023-07-06 21:13:50,514] Trial 4 finished with value: 0.9345165238678091 and parameters: {'n_estimators': 174, 'max_depth': 23, 'min_samples_leaf': 6}. Best is trial 3 with value: 0.9770290964777948.\n",
      "[I 2023-07-06 21:13:54,217] Trial 5 finished with value: 0.9706601466992665 and parameters: {'n_estimators': 173, 'max_depth': 16, 'min_samples_leaf': 3}. Best is trial 3 with value: 0.9770290964777948.\n",
      "[I 2023-07-06 21:13:56,743] Trial 6 finished with value: 0.9221849252364968 and parameters: {'n_estimators': 143, 'max_depth': 12, 'min_samples_leaf': 6}. Best is trial 3 with value: 0.9770290964777948.\n",
      "[I 2023-07-06 21:13:59,809] Trial 7 finished with value: 0.9581167838581474 and parameters: {'n_estimators': 149, 'max_depth': 28, 'min_samples_leaf': 4}. Best is trial 3 with value: 0.9770290964777948.\n",
      "[I 2023-07-06 21:14:02,609] Trial 8 finished with value: 0.935454267360049 and parameters: {'n_estimators': 147, 'max_depth': 24, 'min_samples_leaf': 6}. Best is trial 3 with value: 0.9770290964777948.\n",
      "[I 2023-07-06 21:14:04,469] Trial 9 finished with value: 0.8969957081545065 and parameters: {'n_estimators': 112, 'max_depth': 12, 'min_samples_leaf': 9}. Best is trial 3 with value: 0.9770290964777948.\n",
      "[I 2023-07-06 21:14:09,171] Trial 10 finished with value: 0.9926470588235294 and parameters: {'n_estimators': 200, 'max_depth': 29, 'min_samples_leaf': 2}. Best is trial 10 with value: 0.9926470588235294.\n",
      "[I 2023-07-06 21:14:13,897] Trial 11 finished with value: 0.9926470588235294 and parameters: {'n_estimators': 200, 'max_depth': 29, 'min_samples_leaf': 2}. Best is trial 10 with value: 0.9926470588235294.\n",
      "[I 2023-07-06 21:14:18,550] Trial 12 finished with value: 0.9926470588235294 and parameters: {'n_estimators': 199, 'max_depth': 30, 'min_samples_leaf': 2}. Best is trial 10 with value: 0.9926470588235294.\n",
      "[I 2023-07-06 21:14:23,188] Trial 13 finished with value: 0.9926470588235294 and parameters: {'n_estimators': 200, 'max_depth': 30, 'min_samples_leaf': 2}. Best is trial 10 with value: 0.9926470588235294.\n",
      "[I 2023-07-06 21:14:27,096] Trial 14 finished with value: 0.9574793514836342 and parameters: {'n_estimators': 184, 'max_depth': 27, 'min_samples_leaf': 4}. Best is trial 10 with value: 0.9926470588235294.\n",
      "[I 2023-07-06 21:14:31,491] Trial 15 finished with value: 0.9914163090128756 and parameters: {'n_estimators': 186, 'max_depth': 20, 'min_samples_leaf': 2}. Best is trial 10 with value: 0.9926470588235294.\n",
      "[I 2023-07-06 21:14:35,254] Trial 16 finished with value: 0.9475609756097562 and parameters: {'n_estimators': 188, 'max_depth': 28, 'min_samples_leaf': 5}. Best is trial 10 with value: 0.9926470588235294.\n",
      "[I 2023-07-06 21:14:38,245] Trial 17 finished with value: 0.9152646069134293 and parameters: {'n_estimators': 167, 'max_depth': 20, 'min_samples_leaf': 8}. Best is trial 10 with value: 0.9926470588235294.\n",
      "[I 2023-07-06 21:14:41,147] Trial 18 finished with value: 0.9764453961456101 and parameters: {'n_estimators': 131, 'max_depth': 30, 'min_samples_leaf': 3}. Best is trial 10 with value: 0.9926470588235294.\n",
      "[I 2023-07-06 21:14:44,958] Trial 19 finished with value: 0.9466626028649803 and parameters: {'n_estimators': 194, 'max_depth': 26, 'min_samples_leaf': 5}. Best is trial 10 with value: 0.9926470588235294.\n",
      "[I 2023-07-06 21:14:47,839] Trial 20 finished with value: 0.9218989280245022 and parameters: {'n_estimators': 161, 'max_depth': 15, 'min_samples_leaf': 7}. Best is trial 10 with value: 0.9926470588235294.\n",
      "[I 2023-07-06 21:14:52,505] Trial 21 finished with value: 0.9926470588235294 and parameters: {'n_estimators': 199, 'max_depth': 29, 'min_samples_leaf': 2}. Best is trial 10 with value: 0.9926470588235294.\n",
      "[I 2023-07-06 21:14:56,658] Trial 22 finished with value: 0.992651561543172 and parameters: {'n_estimators': 178, 'max_depth': 30, 'min_samples_leaf': 2}. Best is trial 22 with value: 0.992651561543172.\n",
      "[I 2023-07-06 21:15:00,559] Trial 23 finished with value: 0.9770572040379322 and parameters: {'n_estimators': 179, 'max_depth': 26, 'min_samples_leaf': 3}. Best is trial 22 with value: 0.992651561543172.\n",
      "[I 2023-07-06 21:15:05,011] Trial 24 finished with value: 0.992347719620447 and parameters: {'n_estimators': 190, 'max_depth': 28, 'min_samples_leaf': 2}. Best is trial 22 with value: 0.992651561543172.\n",
      "[I 2023-07-06 21:15:08,965] Trial 25 finished with value: 0.9785801713586292 and parameters: {'n_estimators': 179, 'max_depth': 25, 'min_samples_leaf': 3}. Best is trial 22 with value: 0.992651561543172.\n",
      "[I 2023-07-06 21:15:12,903] Trial 26 finished with value: 0.9590464547677262 and parameters: {'n_estimators': 192, 'max_depth': 22, 'min_samples_leaf': 4}. Best is trial 22 with value: 0.992651561543172.\n",
      "[I 2023-07-06 21:15:16,262] Trial 27 finished with value: 0.9466300701433363 and parameters: {'n_estimators': 167, 'max_depth': 28, 'min_samples_leaf': 5}. Best is trial 22 with value: 0.992651561543172.\n",
      "[I 2023-07-06 21:15:20,475] Trial 28 finished with value: 0.9923430321592649 and parameters: {'n_estimators': 180, 'max_depth': 29, 'min_samples_leaf': 2}. Best is trial 22 with value: 0.992651561543172.\n",
      "[I 2023-07-06 21:15:22,875] Trial 29 finished with value: 0.877853177051203 and parameters: {'n_estimators': 158, 'max_depth': 10, 'min_samples_leaf': 10}. Best is trial 22 with value: 0.992651561543172.\n",
      "[I 2023-07-06 21:15:27,287] Trial 30 finished with value: 0.97796817625459 and parameters: {'n_estimators': 194, 'max_depth': 26, 'min_samples_leaf': 3}. Best is trial 22 with value: 0.992651561543172.\n",
      "[I 2023-07-06 21:15:32,013] Trial 31 finished with value: 0.9926470588235294 and parameters: {'n_estimators': 199, 'max_depth': 30, 'min_samples_leaf': 2}. Best is trial 22 with value: 0.992651561543172.\n",
      "[I 2023-07-06 21:15:36,731] Trial 32 finished with value: 0.9926470588235294 and parameters: {'n_estimators': 200, 'max_depth': 30, 'min_samples_leaf': 2}. Best is trial 22 with value: 0.992651561543172.\n",
      "[I 2023-07-06 21:15:40,790] Trial 33 finished with value: 0.9773561811505507 and parameters: {'n_estimators': 185, 'max_depth': 27, 'min_samples_leaf': 3}. Best is trial 22 with value: 0.992651561543172.\n",
      "[I 2023-07-06 21:15:45,383] Trial 34 finished with value: 0.9929555895865237 and parameters: {'n_estimators': 193, 'max_depth': 29, 'min_samples_leaf': 2}. Best is trial 34 with value: 0.9929555895865237.\n",
      "[I 2023-07-06 21:15:49,481] Trial 35 finished with value: 0.9590464547677262 and parameters: {'n_estimators': 192, 'max_depth': 22, 'min_samples_leaf': 4}. Best is trial 34 with value: 0.9929555895865237.\n",
      "[I 2023-07-06 21:15:53,238] Trial 36 finished with value: 0.9776690119302539 and parameters: {'n_estimators': 173, 'max_depth': 27, 'min_samples_leaf': 3}. Best is trial 34 with value: 0.9929555895865237.\n",
      "[I 2023-07-06 21:15:56,881] Trial 37 finished with value: 0.9574793514836342 and parameters: {'n_estimators': 180, 'max_depth': 25, 'min_samples_leaf': 4}. Best is trial 34 with value: 0.9929555895865237.\n",
      "[I 2023-07-06 21:15:59,894] Trial 38 finished with value: 0.9754901960784313 and parameters: {'n_estimators': 138, 'max_depth': 29, 'min_samples_leaf': 3}. Best is trial 34 with value: 0.9929555895865237.\n",
      "[I 2023-07-06 21:16:04,260] Trial 39 finished with value: 0.988957055214724 and parameters: {'n_estimators': 189, 'max_depth': 18, 'min_samples_leaf': 2}. Best is trial 34 with value: 0.9929555895865237.\n",
      "[I 2023-07-06 21:16:07,886] Trial 40 finished with value: 0.9761175750153093 and parameters: {'n_estimators': 168, 'max_depth': 23, 'min_samples_leaf': 3}. Best is trial 34 with value: 0.9929555895865237.\n",
      "[I 2023-07-06 21:16:12,437] Trial 41 finished with value: 0.992951271835734 and parameters: {'n_estimators': 195, 'max_depth': 29, 'min_samples_leaf': 2}. Best is trial 34 with value: 0.9929555895865237.\n",
      "[I 2023-07-06 21:16:16,956] Trial 42 finished with value: 0.992951271835734 and parameters: {'n_estimators': 195, 'max_depth': 29, 'min_samples_leaf': 2}. Best is trial 34 with value: 0.9929555895865237.\n",
      "[I 2023-07-06 21:16:21,080] Trial 43 finished with value: 0.992347719620447 and parameters: {'n_estimators': 175, 'max_depth': 27, 'min_samples_leaf': 2}. Best is trial 34 with value: 0.9929555895865237.\n",
      "[I 2023-07-06 21:16:25,432] Trial 44 finished with value: 0.9785801713586292 and parameters: {'n_estimators': 195, 'max_depth': 29, 'min_samples_leaf': 3}. Best is trial 34 with value: 0.9929555895865237.\n",
      "[I 2023-07-06 21:16:29,706] Trial 45 finished with value: 0.9917304747320062 and parameters: {'n_estimators': 183, 'max_depth': 28, 'min_samples_leaf': 2}. Best is trial 34 with value: 0.9929555895865237.\n",
      "[I 2023-07-06 21:16:33,136] Trial 46 finished with value: 0.9279169211973121 and parameters: {'n_estimators': 195, 'max_depth': 25, 'min_samples_leaf': 7}. Best is trial 34 with value: 0.9929555895865237.\n",
      "[I 2023-07-06 21:16:36,027] Trial 47 finished with value: 0.9911179173047474 and parameters: {'n_estimators': 120, 'max_depth': 30, 'min_samples_leaf': 2}. Best is trial 34 with value: 0.9929555895865237.\n",
      "[I 2023-07-06 21:16:39,893] Trial 48 finished with value: 0.9580911593759559 and parameters: {'n_estimators': 188, 'max_depth': 28, 'min_samples_leaf': 4}. Best is trial 34 with value: 0.9929555895865237.\n",
      "[I 2023-07-06 21:16:43,898] Trial 49 finished with value: 0.977655341291705 and parameters: {'n_estimators': 184, 'max_depth': 24, 'min_samples_leaf': 3}. Best is trial 34 with value: 0.9929555895865237.\n"
     ]
    },
    {
     "name": "stdout",
     "output_type": "stream",
     "text": [
      "CPU times: total: 3min 6s\n",
      "Wall time: 3min 6s\n"
     ]
    }
   ],
   "source": [
    "%%time\n",
    "# cоздаем объект исследования\n",
    "# можем напрямую указать, что нам необходимо максимизировать метрику direction=\"maximize\"\n",
    "study = optuna.create_study(study_name=\"RandomForestClassifier\", direction=\"maximize\")\n",
    "# ищем лучшую комбинацию гиперпараметров n_trials раз\n",
    "study.optimize(optuna_rf, n_trials=50)"
   ]
  },
  {
   "cell_type": "code",
   "execution_count": 48,
   "metadata": {},
   "outputs": [
    {
     "name": "stdout",
     "output_type": "stream",
     "text": [
      "Наилучшие значения гиперпараметров {'n_estimators': 193, 'max_depth': 29, 'min_samples_leaf': 2}\n",
      "f1_score на обучающем наборе: 0.99\n"
     ]
    }
   ],
   "source": [
    "# выводим результаты на обучающей выборке\n",
    "print(\"Наилучшие значения гиперпараметров {}\".format(study.best_params))\n",
    "print(\"f1_score на обучающем наборе: {:.2f}\".format(study.best_value))"
   ]
  },
  {
   "cell_type": "code",
   "execution_count": 49,
   "metadata": {},
   "outputs": [
    {
     "name": "stdout",
     "output_type": "stream",
     "text": [
      "accuracy на тестовом наборе: 0.80\n",
      "f1_score на тестовом наборе: 0.82\n"
     ]
    }
   ],
   "source": [
    "# рассчитаем точность для тестовой выборки\n",
    "model = ensemble.RandomForestClassifier(**study.best_params,random_state=random_state, )\n",
    "model.fit(X_train, y_train)\n",
    "y_train_pred = model.predict(X_train)\n",
    "print(\"accuracy на тестовом наборе: {:.2f}\".format(model.score(X_test, y_test)))\n",
    "y_test_pred = model.predict(X_test)\n",
    "print('f1_score на тестовом наборе: {:.2f}'.format(metrics.f1_score(y_test, y_test_pred)))"
   ]
  },
  {
   "attachments": {},
   "cell_type": "markdown",
   "metadata": {},
   "source": [
    "## Случайный лес"
   ]
  },
  {
   "attachments": {},
   "cell_type": "markdown",
   "metadata": {},
   "source": [
    "Сначала посчитаем модель с параметрами по умолчанию и оценим метрику:"
   ]
  },
  {
   "cell_type": "code",
   "execution_count": 56,
   "metadata": {},
   "outputs": [
    {
     "name": "stdout",
     "output_type": "stream",
     "text": [
      "f1_score на обучающем наборе: 1.00\n",
      "f1_score на тестовом наборе: 0.81\n"
     ]
    }
   ],
   "source": [
    "#Создаем объект класса случайный лес\n",
    "rf = ensemble.RandomForestClassifier(random_state=42)\n",
    "\n",
    "#Обучаем модель\n",
    "rf.fit(X_train, y_train)\n",
    "#Выводим значения метрики \n",
    "y_train_pred = rf.predict(X_train)\n",
    "print('f1_score на обучающем наборе: {:.2f}'.format(metrics.f1_score(y_train, y_train_pred)))\n",
    "y_test_pred = rf.predict(X_test)\n",
    "print('f1_score на тестовом наборе: {:.2f}'.format(metrics.f1_score(y_test, y_test_pred)))"
   ]
  },
  {
   "attachments": {},
   "cell_type": "markdown",
   "metadata": {},
   "source": [
    "### RandomizedSearchCV"
   ]
  },
  {
   "cell_type": "code",
   "execution_count": 31,
   "metadata": {},
   "outputs": [
    {
     "name": "stdout",
     "output_type": "stream",
     "text": [
      "CPU times: total: 2.95 s\n",
      "Wall time: 1min 8s\n",
      "f1_score на обучающем наборе: 0.94\n",
      "accuracy на тестовом наборе: 0.81\n",
      "f1_score на тестовом наборе: 0.83\n",
      "Наилучшие значения гиперпараметров: {'n_estimators': 80, 'min_samples_leaf': 5, 'max_depth': 22}\n"
     ]
    }
   ],
   "source": [
    "param_distributions = {'n_estimators': list(range(80, 200, 30)),\n",
    "              'min_samples_leaf': [5],\n",
    "              'max_depth': list(np.linspace(20, 40, 10, dtype=int))\n",
    "              }\n",
    "            \n",
    "random_search_forest = RandomizedSearchCV(\n",
    "    estimator=ensemble.RandomForestClassifier(random_state=42), \n",
    "    param_distributions=param_distributions, \n",
    "    cv=5,\n",
    "    n_iter = 10, \n",
    "    n_jobs = -1\n",
    ")  \n",
    "%time random_search_forest.fit(X_train, y_train) \n",
    "y_train_pred = random_search_forest.predict(X_train)\n",
    "print('f1_score на обучающем наборе: {:.2f}'.format(metrics.f1_score(y_train, y_train_pred)))\n",
    "print(\"accuracy на тестовом наборе: {:.2f}\".format(random_search_forest.score(X_test, y_test)))\n",
    "y_test_pred = random_search_forest.predict(X_test)\n",
    "print('f1_score на тестовом наборе: {:.2f}'.format(metrics.f1_score(y_test, y_test_pred)))\n",
    "print(\"Наилучшие значения гиперпараметров: {}\".format(random_search_forest.best_params_))"
   ]
  },
  {
   "attachments": {},
   "cell_type": "markdown",
   "metadata": {},
   "source": [
    "### GridSearchCV"
   ]
  },
  {
   "cell_type": "code",
   "execution_count": 32,
   "metadata": {},
   "outputs": [
    {
     "name": "stdout",
     "output_type": "stream",
     "text": [
      "CPU times: total: 5.17 s\n",
      "Wall time: 1min 50s\n",
      "f1_score на обучающем наборе: 0.94\n",
      "accuracy на тестовом наборе: 0.80\n",
      "f1_score на тестовом наборе: 0.82\n",
      "Наилучшие значения гиперпараметров: {'max_depth': 20, 'min_samples_leaf': 5, 'n_estimators': 140}\n"
     ]
    }
   ],
   "source": [
    "param_grid = {'n_estimators': list(range(80, 200, 30)),\n",
    "              'min_samples_leaf': [5],\n",
    "              'max_depth': list(np.linspace(20, 40, 5, dtype=int))\n",
    "              }\n",
    "            \n",
    "grid_search_forest = GridSearchCV(\n",
    "    estimator=ensemble.RandomForestClassifier(random_state=42), \n",
    "    param_grid=param_grid, \n",
    "    cv=5, \n",
    "    n_jobs = -1\n",
    ")  \n",
    "%time grid_search_forest.fit(X_train, y_train) \n",
    "y_train_pred = grid_search_forest.predict(X_train)\n",
    "print('f1_score на обучающем наборе: {:.2f}'.format(metrics.f1_score(y_train, y_train_pred)))\n",
    "print(\"accuracy на тестовом наборе: {:.2f}\".format(grid_search_forest.score(X_test, y_test)))\n",
    "y_test_pred = grid_search_forest.predict(X_test)\n",
    "print('f1_score на тестовом наборе: {:.2f}'.format(metrics.f1_score(y_test, y_test_pred)))\n",
    "print(\"Наилучшие значения гиперпараметров: {}\".format(grid_search_forest.best_params_))"
   ]
  },
  {
   "attachments": {},
   "cell_type": "markdown",
   "metadata": {},
   "source": [
    "### Hyperopt"
   ]
  },
  {
   "cell_type": "code",
   "execution_count": 33,
   "metadata": {},
   "outputs": [],
   "source": [
    "# зададим пространство поиска гиперпараметров\n",
    "space={'n_estimators': hp.quniform('n_estimators', 100, 200, 1),\n",
    "       'max_depth' : hp.quniform('max_depth', 15, 26, 1),\n",
    "       'min_samples_leaf': hp.quniform('min_samples_leaf', 2, 10, 1)\n",
    "      }"
   ]
  },
  {
   "cell_type": "code",
   "execution_count": 19,
   "metadata": {},
   "outputs": [],
   "source": [
    "# зафксируем random_state\n",
    "random_state = 42\n",
    "def hyperopt_rf(params, cv=5, X=X_train, y=y_train, random_state=random_state):\n",
    "    # функция получает комбинацию гиперпараметров в \"params\"\n",
    "    params = {'n_estimators': int(params['n_estimators']), \n",
    "              'max_depth': int(params['max_depth']), \n",
    "             'min_samples_leaf': int(params['min_samples_leaf'])\n",
    "              }\n",
    "  \n",
    "    # используем эту комбинацию для построения модели\n",
    "    model = ensemble.RandomForestClassifier(**params, random_state=random_state)\n",
    "\n",
    "    # обучаем модель\n",
    "    model.fit(X, y)\n",
    "    score = metrics.f1_score(y, model.predict(X))\n",
    "    \n",
    "    # обучать модель можно также с помощью кросс-валидации\n",
    "    # применим  cross validation с тем же количеством фолдов\n",
    "    # score = cross_val_score(model, X, y, cv=cv, scoring=\"f1\", n_jobs=-1).mean()\n",
    "\n",
    "    # метрику необходимо минимизировать, поэтому ставим знак минус\n",
    "    return -score"
   ]
  },
  {
   "cell_type": "code",
   "execution_count": 34,
   "metadata": {},
   "outputs": [
    {
     "name": "stdout",
     "output_type": "stream",
     "text": [
      "  0%|          | 0/50 [00:00<?, ?trial/s, best loss=?]"
     ]
    },
    {
     "name": "stdout",
     "output_type": "stream",
     "text": [
      "100%|██████████| 50/50 [06:38<00:00,  7.97s/trial, best loss: -0.9920343137254902]\n",
      "Наилучшие значения гиперпараметров {'max_depth': 23.0, 'min_samples_leaf': 2.0, 'n_estimators': 172.0}\n",
      "CPU times: total: 5min 13s\n",
      "Wall time: 6min 38s\n"
     ]
    }
   ],
   "source": [
    "%%time\n",
    "# начинаем подбор гиперпараметров\n",
    "\n",
    "trials = Trials() # используется для логирования результатов\n",
    "\n",
    "best=fmin(hyperopt_rf, # наша функция \n",
    "          space=space, # пространство гиперпараметров\n",
    "          algo=tpe.suggest, # алгоритм оптимизации, установлен по умолчанию, задавать необязательно\n",
    "          max_evals=50, # максимальное количество итераций\n",
    "          trials=trials, # логирование результатов\n",
    "          rstate=np.random.default_rng(random_state)# фиксируем для повторяемости результата\n",
    "         )\n",
    "print(\"Наилучшие значения гиперпараметров {}\".format(best))"
   ]
  },
  {
   "cell_type": "code",
   "execution_count": 35,
   "metadata": {},
   "outputs": [
    {
     "name": "stdout",
     "output_type": "stream",
     "text": [
      "f1_score на обучающем наборе: 0.99\n",
      "accuracy на тестовом наборе: 0.80\n",
      "f1_score на тестовом наборе: 0.82\n"
     ]
    }
   ],
   "source": [
    "# рассчитаем точность для тестовой выборки\n",
    "model = ensemble.RandomForestClassifier(\n",
    "    random_state=random_state, \n",
    "    n_estimators=int(best['n_estimators']),\n",
    "    max_depth=int(best['max_depth']),\n",
    "    min_samples_leaf=int(best['min_samples_leaf'])\n",
    ")\n",
    "model.fit(X_train, y_train)\n",
    "y_train_pred = model.predict(X_train)\n",
    "print('f1_score на обучающем наборе: {:.2f}'.format(metrics.f1_score(y_train, y_train_pred)))\n",
    "print(\"accuracy на тестовом наборе: {:.2f}\".format(model.score(X_test, y_test)))\n",
    "y_test_pred = model.predict(X_test)\n",
    "print('f1_score на тестовом наборе: {:.2f}'.format(metrics.f1_score(y_test, y_test_pred)))"
   ]
  },
  {
   "attachments": {},
   "cell_type": "markdown",
   "metadata": {},
   "source": [
    "### Optuna"
   ]
  },
  {
   "cell_type": "code",
   "execution_count": 40,
   "metadata": {},
   "outputs": [],
   "source": [
    "def optuna_rf(trial):\n",
    "  # задаем пространства поиска гиперпараметров\n",
    "  n_estimators = trial.suggest_int('n_estimators', 100, 200, 1)\n",
    "  max_depth = trial.suggest_int('max_depth', 10, 30, 1)\n",
    "  min_samples_leaf = trial.suggest_int('min_samples_leaf', 2, 10, 1)\n",
    "\n",
    "  # создаем модель\n",
    "  model = ensemble.RandomForestClassifier(n_estimators=n_estimators,\n",
    "                                          max_depth=max_depth,\n",
    "                                          min_samples_leaf=min_samples_leaf,\n",
    "                                          random_state=random_state)\n",
    "  # обучаем модель\n",
    "  model.fit(X_train, y_train)\n",
    "  score = metrics.f1_score(y_train, model.predict(X_train))\n",
    "\n",
    "  return score\n",
    "  "
   ]
  },
  {
   "cell_type": "code",
   "execution_count": 41,
   "metadata": {},
   "outputs": [
    {
     "name": "stderr",
     "output_type": "stream",
     "text": [
      "[I 2023-07-05 23:59:42,728] A new study created in memory with name: RandomForestClassifier\n",
      "[I 2023-07-05 23:59:45,151] Trial 0 finished with value: 0.943476932477849 and parameters: {'n_estimators': 112, 'max_depth': 24, 'min_samples_leaf': 5}. Best is trial 0 with value: 0.943476932477849.\n",
      "[I 2023-07-05 23:59:48,785] Trial 1 finished with value: 0.916156670746634 and parameters: {'n_estimators': 193, 'max_depth': 26, 'min_samples_leaf': 8}. Best is trial 0 with value: 0.943476932477849.\n",
      "[I 2023-07-05 23:59:51,416] Trial 2 finished with value: 0.9277403551745255 and parameters: {'n_estimators': 133, 'max_depth': 14, 'min_samples_leaf': 6}. Best is trial 0 with value: 0.943476932477849.\n",
      "[I 2023-07-05 23:59:54,636] Trial 3 finished with value: 0.9152127333945516 and parameters: {'n_estimators': 162, 'max_depth': 15, 'min_samples_leaf': 8}. Best is trial 0 with value: 0.943476932477849.\n",
      "[I 2023-07-05 23:59:57,998] Trial 4 finished with value: 0.9062022609227008 and parameters: {'n_estimators': 170, 'max_depth': 17, 'min_samples_leaf': 9}. Best is trial 0 with value: 0.943476932477849.\n",
      "[I 2023-07-06 00:00:01,677] Trial 5 finished with value: 0.9118095819346963 and parameters: {'n_estimators': 195, 'max_depth': 14, 'min_samples_leaf': 8}. Best is trial 0 with value: 0.943476932477849.\n",
      "[I 2023-07-06 00:00:04,689] Trial 6 finished with value: 0.9081476960634727 and parameters: {'n_estimators': 144, 'max_depth': 28, 'min_samples_leaf': 9}. Best is trial 0 with value: 0.943476932477849.\n",
      "[I 2023-07-06 00:00:07,790] Trial 7 finished with value: 0.9289417505336993 and parameters: {'n_estimators': 137, 'max_depth': 22, 'min_samples_leaf': 7}. Best is trial 0 with value: 0.943476932477849.\n",
      "[I 2023-07-06 00:00:11,403] Trial 8 finished with value: 0.9222290263319044 and parameters: {'n_estimators': 163, 'max_depth': 15, 'min_samples_leaf': 7}. Best is trial 0 with value: 0.943476932477849.\n",
      "[I 2023-07-06 00:00:15,807] Trial 9 finished with value: 0.9494210847044485 and parameters: {'n_estimators': 199, 'max_depth': 11, 'min_samples_leaf': 2}. Best is trial 9 with value: 0.9494210847044485.\n",
      "[I 2023-07-06 00:00:17,764] Trial 10 finished with value: 0.9317416590143863 and parameters: {'n_estimators': 100, 'max_depth': 10, 'min_samples_leaf': 2}. Best is trial 9 with value: 0.9494210847044485.\n",
      "[I 2023-07-06 00:00:20,573] Trial 11 finished with value: 0.9917304747320062 and parameters: {'n_estimators': 105, 'max_depth': 23, 'min_samples_leaf': 2}. Best is trial 11 with value: 0.9917304747320062.\n",
      "[I 2023-07-06 00:00:23,790] Trial 12 finished with value: 0.9908031882280809 and parameters: {'n_estimators': 123, 'max_depth': 20, 'min_samples_leaf': 2}. Best is trial 11 with value: 0.9917304747320062.\n",
      "[I 2023-07-06 00:00:26,584] Trial 13 finished with value: 0.9571865443425077 and parameters: {'n_estimators': 122, 'max_depth': 20, 'min_samples_leaf': 4}. Best is trial 11 with value: 0.9917304747320062.\n",
      "[I 2023-07-06 00:00:29,114] Trial 14 finished with value: 0.9779411764705882 and parameters: {'n_estimators': 103, 'max_depth': 20, 'min_samples_leaf': 3}. Best is trial 11 with value: 0.9917304747320062.\n",
      "[I 2023-07-06 00:00:31,829] Trial 15 finished with value: 0.9602932193036041 and parameters: {'n_estimators': 121, 'max_depth': 23, 'min_samples_leaf': 4}. Best is trial 11 with value: 0.9917304747320062.\n",
      "[I 2023-07-06 00:00:34,744] Trial 16 finished with value: 0.9758335882532885 and parameters: {'n_estimators': 123, 'max_depth': 30, 'min_samples_leaf': 3}. Best is trial 11 with value: 0.9917304747320062.\n",
      "[I 2023-07-06 00:00:37,736] Trial 17 finished with value: 0.9901900674432864 and parameters: {'n_estimators': 112, 'max_depth': 18, 'min_samples_leaf': 2}. Best is trial 11 with value: 0.9917304747320062.\n",
      "[I 2023-07-06 00:00:40,822] Trial 18 finished with value: 0.9584859584859585 and parameters: {'n_estimators': 132, 'max_depth': 26, 'min_samples_leaf': 4}. Best is trial 11 with value: 0.9917304747320062.\n",
      "[I 2023-07-06 00:00:44,651] Trial 19 finished with value: 0.9773145309625996 and parameters: {'n_estimators': 148, 'max_depth': 22, 'min_samples_leaf': 3}. Best is trial 11 with value: 0.9917304747320062.\n",
      "[I 2023-07-06 00:00:47,345] Trial 20 finished with value: 0.9429356118400977 and parameters: {'n_estimators': 115, 'max_depth': 18, 'min_samples_leaf': 5}. Best is trial 11 with value: 0.9917304747320062.\n",
      "[I 2023-07-06 00:00:50,378] Trial 21 finished with value: 0.989260509358699 and parameters: {'n_estimators': 109, 'max_depth': 19, 'min_samples_leaf': 2}. Best is trial 11 with value: 0.9917304747320062.\n",
      "[I 2023-07-06 00:00:53,276] Trial 22 finished with value: 0.9889434889434889 and parameters: {'n_estimators': 108, 'max_depth': 17, 'min_samples_leaf': 2}. Best is trial 11 with value: 0.9917304747320062.\n",
      "[I 2023-07-06 00:00:56,271] Trial 23 finished with value: 0.9767726161369193 and parameters: {'n_estimators': 118, 'max_depth': 21, 'min_samples_leaf': 3}. Best is trial 11 with value: 0.9917304747320062.\n",
      "[I 2023-07-06 00:00:59,103] Trial 24 finished with value: 0.9911124731841863 and parameters: {'n_estimators': 100, 'max_depth': 25, 'min_samples_leaf': 2}. Best is trial 11 with value: 0.9917304747320062.\n",
      "[I 2023-07-06 00:01:01,763] Trial 25 finished with value: 0.9767441860465117 and parameters: {'n_estimators': 103, 'max_depth': 26, 'min_samples_leaf': 3}. Best is trial 11 with value: 0.9917304747320062.\n",
      "[I 2023-07-06 00:01:04,778] Trial 26 finished with value: 0.9428658722884204 and parameters: {'n_estimators': 129, 'max_depth': 24, 'min_samples_leaf': 5}. Best is trial 11 with value: 0.9917304747320062.\n",
      "[I 2023-07-06 00:01:07,119] Trial 27 finished with value: 0.9578497251069028 and parameters: {'n_estimators': 101, 'max_depth': 25, 'min_samples_leaf': 4}. Best is trial 11 with value: 0.9917304747320062.\n",
      "[I 2023-07-06 00:01:10,535] Trial 28 finished with value: 0.9914163090128756 and parameters: {'n_estimators': 125, 'max_depth': 28, 'min_samples_leaf': 2}. Best is trial 11 with value: 0.9917304747320062.\n",
      "[I 2023-07-06 00:01:13,011] Trial 29 finished with value: 0.9376908979841172 and parameters: {'n_estimators': 110, 'max_depth': 29, 'min_samples_leaf': 6}. Best is trial 11 with value: 0.9917304747320062.\n",
      "[I 2023-07-06 00:01:15,703] Trial 30 finished with value: 0.9011930253900275 and parameters: {'n_estimators': 139, 'max_depth': 28, 'min_samples_leaf': 10}. Best is trial 11 with value: 0.9917304747320062.\n",
      "[I 2023-07-06 00:01:18,986] Trial 31 finished with value: 0.9917254060680356 and parameters: {'n_estimators': 126, 'max_depth': 24, 'min_samples_leaf': 2}. Best is trial 11 with value: 0.9917304747320062.\n",
      "[I 2023-07-06 00:01:22,065] Trial 32 finished with value: 0.975206611570248 and parameters: {'n_estimators': 128, 'max_depth': 27, 'min_samples_leaf': 3}. Best is trial 11 with value: 0.9917304747320062.\n",
      "[I 2023-07-06 00:01:26,163] Trial 33 finished with value: 0.9911233547597184 and parameters: {'n_estimators': 154, 'max_depth': 24, 'min_samples_leaf': 2}. Best is trial 11 with value: 0.9917304747320062.\n",
      "[I 2023-07-06 00:01:29,612] Trial 34 finished with value: 0.9761175750153093 and parameters: {'n_estimators': 157, 'max_depth': 24, 'min_samples_leaf': 3}. Best is trial 11 with value: 0.9917304747320062.\n",
      "[I 2023-07-06 00:01:32,866] Trial 35 finished with value: 0.9475609756097562 and parameters: {'n_estimators': 173, 'max_depth': 23, 'min_samples_leaf': 5}. Best is trial 11 with value: 0.9917304747320062.\n",
      "[I 2023-07-06 00:01:37,027] Trial 36 finished with value: 0.9920343137254902 and parameters: {'n_estimators': 182, 'max_depth': 30, 'min_samples_leaf': 2}. Best is trial 36 with value: 0.9920343137254902.\n",
      "[I 2023-07-06 00:01:40,664] Trial 37 finished with value: 0.9574793514836342 and parameters: {'n_estimators': 185, 'max_depth': 30, 'min_samples_leaf': 4}. Best is trial 36 with value: 0.9920343137254902.\n",
      "[I 2023-07-06 00:01:44,994] Trial 38 finished with value: 0.977655341291705 and parameters: {'n_estimators': 187, 'max_depth': 28, 'min_samples_leaf': 3}. Best is trial 36 with value: 0.9920343137254902.\n",
      "[I 2023-07-06 00:01:48,561] Trial 39 finished with value: 0.9908144519289651 and parameters: {'n_estimators': 142, 'max_depth': 27, 'min_samples_leaf': 2}. Best is trial 36 with value: 0.9920343137254902.\n",
      "[I 2023-07-06 00:01:52,646] Trial 40 finished with value: 0.992651561543172 and parameters: {'n_estimators': 174, 'max_depth': 29, 'min_samples_leaf': 2}. Best is trial 40 with value: 0.992651561543172.\n",
      "[I 2023-07-06 00:01:56,996] Trial 41 finished with value: 0.992651561543172 and parameters: {'n_estimators': 176, 'max_depth': 29, 'min_samples_leaf': 2}. Best is trial 40 with value: 0.992651561543172.\n",
      "[I 2023-07-06 00:02:01,593] Trial 42 finished with value: 0.992651561543172 and parameters: {'n_estimators': 176, 'max_depth': 30, 'min_samples_leaf': 2}. Best is trial 40 with value: 0.992651561543172.\n",
      "[I 2023-07-06 00:02:05,775] Trial 43 finished with value: 0.9779816513761468 and parameters: {'n_estimators': 176, 'max_depth': 30, 'min_samples_leaf': 3}. Best is trial 40 with value: 0.992651561543172.\n",
      "[I 2023-07-06 00:02:10,115] Trial 44 finished with value: 0.9926470588235294 and parameters: {'n_estimators': 181, 'max_depth': 29, 'min_samples_leaf': 2}. Best is trial 40 with value: 0.992651561543172.\n",
      "[I 2023-07-06 00:02:15,002] Trial 45 finished with value: 0.9923430321592649 and parameters: {'n_estimators': 182, 'max_depth': 29, 'min_samples_leaf': 2}. Best is trial 40 with value: 0.992651561543172.\n",
      "[I 2023-07-06 00:02:18,624] Trial 46 finished with value: 0.9273060476481368 and parameters: {'n_estimators': 167, 'max_depth': 29, 'min_samples_leaf': 7}. Best is trial 40 with value: 0.992651561543172.\n",
      "[I 2023-07-06 00:02:22,735] Trial 47 finished with value: 0.9785801713586292 and parameters: {'n_estimators': 179, 'max_depth': 29, 'min_samples_leaf': 3}. Best is trial 40 with value: 0.992651561543172.\n",
      "[I 2023-07-06 00:02:26,857] Trial 48 finished with value: 0.9580655035200489 and parameters: {'n_estimators': 192, 'max_depth': 27, 'min_samples_leaf': 4}. Best is trial 40 with value: 0.992651561543172.\n",
      "[I 2023-07-06 00:02:30,979] Trial 49 finished with value: 0.9932639314145744 and parameters: {'n_estimators': 167, 'max_depth': 29, 'min_samples_leaf': 2}. Best is trial 49 with value: 0.9932639314145744.\n"
     ]
    },
    {
     "name": "stdout",
     "output_type": "stream",
     "text": [
      "CPU times: total: 2min 43s\n",
      "Wall time: 2min 48s\n"
     ]
    }
   ],
   "source": [
    "%%time\n",
    "# cоздаем объект исследования\n",
    "# можем напрямую указать, что нам необходимо максимизировать метрику direction=\"maximize\"\n",
    "study = optuna.create_study(study_name=\"RandomForestClassifier\", direction=\"maximize\")\n",
    "# ищем лучшую комбинацию гиперпараметров n_trials раз\n",
    "study.optimize(optuna_rf, n_trials=50)"
   ]
  },
  {
   "cell_type": "code",
   "execution_count": 42,
   "metadata": {},
   "outputs": [
    {
     "name": "stdout",
     "output_type": "stream",
     "text": [
      "Наилучшие значения гиперпараметров {'n_estimators': 167, 'max_depth': 29, 'min_samples_leaf': 2}\n",
      "f1_score на обучающем наборе: 0.99\n"
     ]
    }
   ],
   "source": [
    "# выводим результаты на обучающей выборке\n",
    "print(\"Наилучшие значения гиперпараметров {}\".format(study.best_params))\n",
    "print(\"f1_score на обучающем наборе: {:.2f}\".format(study.best_value))"
   ]
  },
  {
   "cell_type": "code",
   "execution_count": 43,
   "metadata": {},
   "outputs": [
    {
     "name": "stdout",
     "output_type": "stream",
     "text": [
      "accuracy на тестовом наборе: 0.80\n",
      "f1_score на тестовом наборе: 0.82\n"
     ]
    }
   ],
   "source": [
    "# рассчитаем точность для тестовой выборки\n",
    "model = ensemble.RandomForestClassifier(**study.best_params,random_state=random_state, )\n",
    "model.fit(X_train, y_train)\n",
    "y_train_pred = model.predict(X_train)\n",
    "print(\"accuracy на тестовом наборе: {:.2f}\".format(model.score(X_test, y_test)))\n",
    "y_test_pred = model.predict(X_test)\n",
    "print('f1_score на тестовом наборе: {:.2f}'.format(metrics.f1_score(y_test, y_test_pred)))"
   ]
  },
  {
   "attachments": {},
   "cell_type": "markdown",
   "metadata": {},
   "source": [
    "### Выводы:\n",
    "Исходя из поставленной задачи классификации были обучены две модели - логистической регрессии и модель случайного леса по параметрам установленным по умолчанию(Baseline). Далее были подобраны гиперпараметры моделей 4 методами - GridSeachCV, RandomizedSearchCV, Hyperopt, Optuna.\n",
    "\n",
    "Можно сделать следующие выводы:\n",
    "все методы позволили улучшить метрику базовой модели лучшие метрики показали модели с подобранными гиперпараметрами методами Optuna (0.82) и RandomizedSearchCV (0.83). Cамый времязатратный и ресурснозатратный метод - Hyperopt.  В целом каждый метод гиперпараметров показал улучшение score незначительное."
   ]
  }
 ],
 "metadata": {
  "kernelspec": {
   "display_name": "Python 3",
   "language": "python",
   "name": "python3"
  },
  "language_info": {
   "codemirror_mode": {
    "name": "ipython",
    "version": 3
   },
   "file_extension": ".py",
   "mimetype": "text/x-python",
   "name": "python",
   "nbconvert_exporter": "python",
   "pygments_lexer": "ipython3",
   "version": "3.9.10"
  },
  "orig_nbformat": 4
 },
 "nbformat": 4,
 "nbformat_minor": 2
}
