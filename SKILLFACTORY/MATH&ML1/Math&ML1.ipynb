{
 "cells": [
  {
   "cell_type": "code",
   "execution_count": 1,
   "metadata": {},
   "outputs": [],
   "source": [
    "import numpy as np"
   ]
  },
  {
   "cell_type": "markdown",
   "metadata": {},
   "source": [
    "Дан вектор в Python вида t = np.array([12, 14, 17, 19, 24, 28, 31, 31, 27, 22, 17, 13]), содержащий информацию о средней температуре воздуха (в градусах Цельсия) в Риме с января по декабрь включительно. Будем считать, что температура в январе —t0 , то есть отсчёт индексов идёт с нуля."
   ]
  },
  {
   "cell_type": "code",
   "execution_count": 6,
   "metadata": {},
   "outputs": [
    {
     "name": "stdout",
     "output_type": "stream",
     "text": [
      "Температура в июне 28\n"
     ]
    },
    {
     "data": {
      "text/plain": [
       "31"
      ]
     },
     "execution_count": 6,
     "metadata": {},
     "output_type": "execute_result"
    }
   ],
   "source": [
    "t = np.array([12, 14, 17, 19, 24, 28, 31, 31, 27, 22, 17, 13])\n",
    "print(f'Температура в июне {t[5]}')\n",
    "t.min()\n",
    "t[1]\n",
    "t.max()\n",
    "t[6]"
   ]
  },
  {
   "cell_type": "markdown",
   "metadata": {},
   "source": [
    "# Сложение и вычитание векторов"
   ]
  },
  {
   "cell_type": "code",
   "execution_count": 8,
   "metadata": {},
   "outputs": [
    {
     "name": "stdout",
     "output_type": "stream",
     "text": [
      "результат сложения [15 23 14  8]\n",
      "результат вычитания [ 5 -7 -4 -6]\n"
     ]
    }
   ],
   "source": [
    "a = np.array([10, 8, 5, 1])\n",
    "b = np.array([5, 15, 9, 7])\n",
    "print(f'результат сложения {a + b}')\n",
    "print(f'результат вычитания {a - b}')\n"
   ]
  },
  {
   "cell_type": "markdown",
   "metadata": {},
   "source": [
    "# Умножение векторов"
   ]
  },
  {
   "cell_type": "code",
   "execution_count": 9,
   "metadata": {},
   "outputs": [
    {
     "data": {
      "text/plain": [
       "array([24. ,  9. , 13.6])"
      ]
     },
     "execution_count": 9,
     "metadata": {},
     "output_type": "execute_result"
    }
   ],
   "source": [
    "a = np.array([120, 45, 68])\n",
    "omega = 0.2\n",
    "c = a * omega\n",
    "c"
   ]
  },
  {
   "cell_type": "markdown",
   "metadata": {},
   "source": [
    "Задание 2.5\n",
    "2 points possible (graded)\n",
    "Ниже представлены доходы семьи за три месяца.\n",
    "\n",
    "Доходы мужа: 120, 150 и 190 тысяч рублей.\n",
    "Доходы жены: 130, 130 и 130 тысяч рублей.\n",
    "Доходы тёщи: 2, 3 и 2.5 тысячи евро.\n",
    "Вводите координаты полученных векторов через запятую (без пробела). Пример ввода ответа: 0,1,1.\n",
    "\n",
    "Найдите вектор доходов тёщи в тыс. рублей, если курс евро составляет 72 рубля."
   ]
  },
  {
   "cell_type": "code",
   "execution_count": 11,
   "metadata": {},
   "outputs": [
    {
     "data": {
      "text/plain": [
       "array([394., 496., 500.])"
      ]
     },
     "execution_count": 11,
     "metadata": {},
     "output_type": "execute_result"
    }
   ],
   "source": [
    "husb = np.array([120, 150, 190])\n",
    "wife = np.array([130, 130, 130])\n",
    "grandma = np.array([2, 3, 2.5])\n",
    "rate = 72\n",
    "income_grandma=rate*grandma\n",
    "income_grandma\n",
    "all_income=husb+wife+income_grandma\n",
    "all_income\n"
   ]
  },
  {
   "cell_type": "markdown",
   "metadata": {},
   "source": [
    "# Линейная комбинация векторов"
   ]
  },
  {
   "cell_type": "code",
   "execution_count": 12,
   "metadata": {},
   "outputs": [
    {
     "data": {
      "text/plain": [
       "array([1800, 3000, 2700])"
      ]
     },
     "execution_count": 12,
     "metadata": {},
     "output_type": "execute_result"
    }
   ],
   "source": [
    "p = np.array([2, 4, 5])\n",
    "v = np.array([8, 10, 2])\n",
    "s = np.array([0, 12, 7])\n",
    "omega1 = 500\n",
    "omega2 = 100\n",
    "omega3 = 0\n",
    "u = omega1*p + omega2*v + omega3*s\n",
    "u"
   ]
  },
  {
   "cell_type": "markdown",
   "metadata": {},
   "source": [
    "Задание 2.7\n",
    "\n",
    "Найдите линейную комбинацию векторов  с коэффициентами 2, -3 и 5 соответственно.\n",
    "Пример ввода ответа (через запятую, без пробелов): 0,1."
   ]
  },
  {
   "cell_type": "code",
   "execution_count": 13,
   "metadata": {},
   "outputs": [
    {
     "data": {
      "text/plain": [
       "array([7, 7])"
      ]
     },
     "execution_count": 13,
     "metadata": {},
     "output_type": "execute_result"
    }
   ],
   "source": [
    "a = np.array([4, 5])\n",
    "b = np.array([2, 1])\n",
    "c = np.array([1, 0])\n",
    "omega1 = 2\n",
    "omega2 = -3\n",
    "omega3 = 5\n",
    "u=omega1*a + omega2*b + omega3*c\n",
    "u"
   ]
  },
  {
   "cell_type": "markdown",
   "metadata": {},
   "source": [
    "Задание 2.8\n",
    "\n",
    "Юный предприниматель Вовочка мастерит двигатели на водном топливе и продаёт их. За четыре недели он смастерил 3, 4, 5 и 9 двигателей, а продал 1, 5, 3 и 6 двигателей соответственно.\n",
    "На изготовление одного двигателя Вовочка тратит 200 рублей, а продаёт двигатели по 400 рублейза штуку.\n",
    "Найдите вектор прибыли (разницу между выручкой и затратами) Вовочки за эти четыре недели.\n",
    "В качестве ответа введите координаты вектора через запятую, без пробелов. Пример ввода ответа: 0,1,1,1."
   ]
  },
  {
   "cell_type": "code",
   "execution_count": 14,
   "metadata": {},
   "outputs": [
    {
     "data": {
      "text/plain": [
       "array([-200, 1200,  200,  600])"
      ]
     },
     "execution_count": 14,
     "metadata": {},
     "output_type": "execute_result"
    }
   ],
   "source": [
    "a = np.array([3, 4, 5, 9])\n",
    "b = np.array([1, 5, 3, 6])\n",
    "omega1 = 200\n",
    "omega2 = 400\n",
    "income=omega2*b - omega1*a\n",
    "income\n"
   ]
  },
  {
   "cell_type": "markdown",
   "metadata": {},
   "source": [
    "# Cкалярное произведение векторов вычисляется при помощи функции np.dot()"
   ]
  },
  {
   "cell_type": "code",
   "execution_count": 15,
   "metadata": {},
   "outputs": [
    {
     "data": {
      "text/plain": [
       "102.0"
      ]
     },
     "execution_count": 15,
     "metadata": {},
     "output_type": "execute_result"
    }
   ],
   "source": [
    "a = np.array([65, 70, 120, 30])\n",
    "w = np.array([0.4, 0.4, 0.2, 0.8])\n",
    "np.dot(a, w)"
   ]
  },
  {
   "cell_type": "code",
   "execution_count": 16,
   "metadata": {},
   "outputs": [
    {
     "data": {
      "text/plain": [
       "7"
      ]
     },
     "execution_count": 16,
     "metadata": {},
     "output_type": "execute_result"
    }
   ],
   "source": [
    "a = np.array([4, 5, -1])\n",
    "w = np.array([2, 0, 1])\n",
    "np.dot(a, w)"
   ]
  }
 ],
 "metadata": {
  "kernelspec": {
   "display_name": "Python 3",
   "language": "python",
   "name": "python3"
  },
  "language_info": {
   "codemirror_mode": {
    "name": "ipython",
    "version": 3
   },
   "file_extension": ".py",
   "mimetype": "text/x-python",
   "name": "python",
   "nbconvert_exporter": "python",
   "pygments_lexer": "ipython3",
   "version": "3.9.10"
  },
  "orig_nbformat": 4
 },
 "nbformat": 4,
 "nbformat_minor": 2
}
